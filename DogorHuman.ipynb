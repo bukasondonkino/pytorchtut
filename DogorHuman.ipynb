{
 "cells": [
  {
   "cell_type": "code",
   "execution_count": 3,
   "id": "4da9d7ad-9797-4b35-ad4d-ad6e1d51dc5b",
   "metadata": {},
   "outputs": [],
   "source": [
    "import os\n",
    "import torch\n",
    "from torch import nn\n",
    "import torchvision\n",
    "from torchvision import datasets, models, transforms\n",
    "import torch.backends.cudnn as cudnn\n",
    "import torch.optim as optim\n",
    "# from torchvision.transforms import v2\n",
    "from torch.optim import lr_scheduler\n",
    "from torch.utils.data import DataLoader\n",
    "\n",
    "import matplotlib.pyplot as plt"
   ]
  },
  {
   "cell_type": "code",
   "execution_count": 2,
   "id": "6f474c7b-5934-4af0-a466-a115f71ee339",
   "metadata": {},
   "outputs": [],
   "source": [
    "train_transform = transforms.Compose([\n",
    "    # Resize the images to 64x64\n",
    "    transforms.Resize(size=(64, 64)),\n",
    "    # Flip the images randomly on the horizontal\n",
    "    transforms.RandomHorizontalFlip(p=0.5), # p = probability of flip, 0.5 = 50% chance\n",
    "    # Turn the image into a torch.Tensor\n",
    "    transforms.ToTensor() # this also converts all pixel values from 0 to 255 to be between 0.0 and 1.0 \n",
    "])\n",
    "test_transform = transforms.Compose([\n",
    "    # Resize the images to 64x64\n",
    "    transforms.Resize(size=(64, 64)),\n",
    "    # Turn the image into a torch.Tensor\n",
    "    transforms.ToTensor() # this also converts all pixel values from 0 to 255 to be between 0.0 and 1.0 \n",
    "])\n",
    "BATCH_SIZE = 32\n",
    "NUM_WORKERS = os.cpu_count()"
   ]
  },
  {
   "cell_type": "code",
   "execution_count": null,
   "id": "c621b072-b2b9-4fd5-a13c-6b9a90c1fefe",
   "metadata": {},
   "outputs": [],
   "source": []
  },
  {
   "cell_type": "code",
   "execution_count": 3,
   "id": "ff1cc518-d6fe-4c4f-92dd-c82690cf155d",
   "metadata": {},
   "outputs": [],
   "source": [
    "train_data = datasets.ImageFolder(\n",
    "    root = \"training_set\",\n",
    "    transform = train_transform,\n",
    "    target_transform = None\n",
    ")\n",
    "\n",
    "test_data = datasets.ImageFolder(\n",
    "    root = \"test_set\",\n",
    "    transform = test_transform,\n",
    "    target_transform = None\n",
    ")\n",
    "\n",
    "# print(f\"Train data:\\n{train_data}\\nTest data:\\n{test_data}\")"
   ]
  },
  {
   "cell_type": "code",
   "execution_count": 4,
   "id": "cfdbce60-9f8c-4f5f-9e5d-37c428da5be2",
   "metadata": {},
   "outputs": [],
   "source": [
    "class_names = train_data.classes\n",
    "# class_names"
   ]
  },
  {
   "cell_type": "code",
   "execution_count": 5,
   "id": "23855a68-49a0-401a-b83a-f5b588b8938f",
   "metadata": {},
   "outputs": [
    {
     "data": {
      "text/plain": [
       "{'horses': 0, 'humans': 1}"
      ]
     },
     "execution_count": 5,
     "metadata": {},
     "output_type": "execute_result"
    }
   ],
   "source": [
    "class_dict = train_data.class_to_idx\n",
    "class_dict"
   ]
  },
  {
   "cell_type": "code",
   "execution_count": 6,
   "id": "ae28e9c3-1d28-488f-a963-2b747219083b",
   "metadata": {},
   "outputs": [
    {
     "data": {
      "text/plain": [
       "(1027, 256)"
      ]
     },
     "execution_count": 6,
     "metadata": {},
     "output_type": "execute_result"
    }
   ],
   "source": [
    "len(train_data), len(test_data)"
   ]
  },
  {
   "cell_type": "code",
   "execution_count": 7,
   "id": "b9f4c47f-f74b-4f4a-b7d6-0bebb9abf3d5",
   "metadata": {},
   "outputs": [],
   "source": [
    "img, label = train_data[0][0], train_data[0][1]"
   ]
  },
  {
   "cell_type": "code",
   "execution_count": 8,
   "id": "bb6f31a0-967d-4c3a-8562-35aa3f338ba6",
   "metadata": {},
   "outputs": [
    {
     "data": {
      "text/plain": [
       "torch.Size([3, 64, 64])"
      ]
     },
     "execution_count": 8,
     "metadata": {},
     "output_type": "execute_result"
    }
   ],
   "source": [
    "img.shape"
   ]
  },
  {
   "cell_type": "code",
   "execution_count": 9,
   "id": "36c8cae4-ad76-4d6a-905f-5f3c2b24b11e",
   "metadata": {},
   "outputs": [],
   "source": [
    "# img, label = train_data[0][0], train_data[0][1]\n",
    "# print(f\"Image tensor:\\n{img}\")\n",
    "# print(f\"Image shape: {img.shape}\")\n",
    "# print(f\"Image datatype: {img.dtype}\")\n",
    "# print(f\"Image label: {label}\")\n",
    "# print(f\"Label datatype: {type(label)}\")"
   ]
  },
  {
   "cell_type": "code",
   "execution_count": 10,
   "id": "033c3133-23a2-4034-b55b-4c2512923fd5",
   "metadata": {},
   "outputs": [],
   "source": [
    "# # Rearrange the order of dimensions\n",
    "# img_permute = img.permute(1, 2, 0)\n",
    "\n",
    "# # Print out different shapes (before and after permute)\n",
    "# print(f\"Original shape: {img.shape} -> [color_channels, height, width]\")\n",
    "# print(f\"Image permute shape: {img_permute.shape} -> [height, width, color_channels]\")\n",
    "\n",
    "# # Plot the image\n",
    "# plt.figure(figsize=(10, 7))\n",
    "# plt.imshow(img.permute(1, 2, 0))\n",
    "# plt.axis(\"off\")\n",
    "# plt.title(class_names[label], fontsize=14);"
   ]
  },
  {
   "cell_type": "code",
   "execution_count": 11,
   "id": "d9bba958-06aa-41fd-8eef-2a43e2fefecb",
   "metadata": {},
   "outputs": [
    {
     "data": {
      "text/plain": [
       "(<torch.utils.data.dataloader.DataLoader at 0x2538d396510>,\n",
       " <torch.utils.data.dataloader.DataLoader at 0x2538ccc4290>)"
      ]
     },
     "execution_count": 11,
     "metadata": {},
     "output_type": "execute_result"
    }
   ],
   "source": [
    "train_dataloader = DataLoader(dataset=train_data, \n",
    "                              batch_size=BATCH_SIZE, # how many samples per batch?\n",
    "                              num_workers=NUM_WORKERS, # how many subprocesses to use for data loading? (higher = more)\n",
    "                              shuffle=True) # shuffle the data?\n",
    "\n",
    "test_dataloader = DataLoader(dataset=test_data, \n",
    "                             batch_size=BATCH_SIZE, \n",
    "                             num_workers=NUM_WORKERS, \n",
    "                             shuffle=False) # don't usually need to shuffle testing data\n",
    "\n",
    "train_dataloader, test_dataloader"
   ]
  },
  {
   "cell_type": "code",
   "execution_count": 12,
   "id": "56b9f409-2b4e-4ac9-829e-5b528023397c",
   "metadata": {},
   "outputs": [],
   "source": [
    "# img, label = next(iter(train_dataloader))\n",
    "\n",
    "# # Batch size will now be 1, try changing the batch_size parameter above and see what happens\n",
    "# print(f\"Image shape: {img.shape} -> [batch_size, color_channels, height, width]\")\n",
    "# print(f\"Label shape: {label.shape}\")"
   ]
  },
  {
   "cell_type": "code",
   "execution_count": 27,
   "id": "7d3389a6-4014-409a-a2f2-d4e7c709b1d6",
   "metadata": {},
   "outputs": [],
   "source": [
    "class CnnModel1(nn.Module):\n",
    "    \n",
    "     def __init__(self, input_shape: int, hidden_units: int, output_shape: int) -> None:\n",
    "         \n",
    "        super().__init__()\n",
    "        self.conv_block_1 = nn.Sequential(\n",
    "            nn.Conv2d(in_channels=input_shape, \n",
    "                      out_channels=hidden_units,\n",
    "                      kernel_size=3, # how big is the square that's going over the image?\n",
    "                      stride=1, # default\n",
    "                      padding=1), # options = \"valid\" (no padding) or \"same\" (output has same shape as input) or int for specific number \n",
    "            nn.ReLU(),\n",
    "            nn.Conv2d(in_channels=hidden_units, \n",
    "                      out_channels=hidden_units,\n",
    "                      kernel_size=3,\n",
    "                      stride=1,\n",
    "                      padding=1),\n",
    "            nn.ReLU(),\n",
    "            nn.Dropout(0.3),\n",
    "            nn.MaxPool2d(kernel_size=2,\n",
    "                         stride=2) # default stride value is same as kernel_size\n",
    "        )\n",
    "        self.conv_block_2 = nn.Sequential(\n",
    "            nn.Conv2d(hidden_units, hidden_units, kernel_size=3, padding=1),\n",
    "            nn.ReLU(),\n",
    "            nn.Conv2d(hidden_units, hidden_units, kernel_size=3, padding=1),\n",
    "            nn.ReLU(),\n",
    "            nn.Dropout(0.3),\n",
    "            nn.MaxPool2d(2)\n",
    "        )\n",
    "        self.classifier = nn.Sequential(\n",
    "            nn.Flatten(),\n",
    "            # Where did this in_features shape come from? \n",
    "            # It's because each layer of our network compresses and changes the shape of our inputs data.\n",
    "            nn.Dropout(0.5),\n",
    "            nn.Linear(in_features=hidden_units  * 16 * 16,\n",
    "                      out_features=output_shape),\n",
    "        )\n",
    "    \n",
    "     def forward(self, x: torch.Tensor):\n",
    "        \n",
    "        x = self.conv_block_1(x)\n",
    "        # print(x.shape)\n",
    "        x = self.conv_block_2(x)\n",
    "        # print(x.shape)\n",
    "        x = self.classifier(x)\n",
    "        # print(x.shape)\n",
    "        return x\n",
    "   "
   ]
  },
  {
   "cell_type": "code",
   "execution_count": 28,
   "id": "b6538f50-ecf7-4a10-895d-49d19df12b89",
   "metadata": {},
   "outputs": [],
   "source": [
    "# Setup device-agnostic code\n",
    "device = \"cuda\" if torch.cuda.is_available() else \"cpu\""
   ]
  },
  {
   "cell_type": "code",
   "execution_count": 29,
   "id": "0a06be34-ebc5-4088-a9bd-5311c2448965",
   "metadata": {},
   "outputs": [],
   "source": [
    "model1 = CnnModel1(input_shape=3, # number of color channels (3 for RGB) \n",
    "                  hidden_units=64, \n",
    "                  output_shape=2)\n",
    "\n",
    "loss_fn = nn.CrossEntropyLoss()\n",
    "optimizer = optim.Adam(model1.parameters(), lr=0.001)"
   ]
  },
  {
   "cell_type": "code",
   "execution_count": 30,
   "id": "c03d7d2f-18c4-46e1-964f-beb93d241a59",
   "metadata": {},
   "outputs": [],
   "source": [
    "def train_step(model: torch.nn.Module, \n",
    "               dataloader: torch.utils.data.DataLoader, \n",
    "               loss_fn: torch.nn.Module, \n",
    "               optimizer: torch.optim.Optimizer):\n",
    "    # Put model in train mode\n",
    "    model.train()\n",
    "    \n",
    "    # Setup train loss and train accuracy values\n",
    "    train_loss, train_acc = 0, 0\n",
    "    \n",
    "    # Loop through data loader data batches\n",
    "    for batch, (X, y) in enumerate(dataloader):\n",
    "        # Send data to target device\n",
    "        # X, y = X.to(device), y.to(device)\n",
    "        X, y = X, y\n",
    "\n",
    "        # 1. Forward pass\n",
    "        y_pred = model(X)\n",
    "\n",
    "        # 2. Calculate  and accumulate loss\n",
    "        loss = loss_fn(y_pred, y)\n",
    "        train_loss += loss.item() \n",
    "\n",
    "        # 3. Optimizer zero grad\n",
    "        optimizer.zero_grad()\n",
    "\n",
    "        # 4. Loss backward\n",
    "        loss.backward()\n",
    "\n",
    "        # 5. Optimizer step\n",
    "        optimizer.step()\n",
    "\n",
    "        # Calculate and accumulate accuracy metric across all batches\n",
    "        y_pred_class = torch.argmax(torch.softmax(y_pred, dim=1), dim=1)\n",
    "        train_acc += (y_pred_class == y).sum().item()/len(y_pred)\n",
    "\n",
    "    # Adjust metrics to get average loss and accuracy per batch \n",
    "    train_loss = train_loss / len(dataloader)\n",
    "    train_acc = train_acc / len(dataloader)\n",
    "    return train_loss, train_acc"
   ]
  },
  {
   "cell_type": "code",
   "execution_count": 31,
   "id": "77c4fdcf-7aa6-4483-88a2-fb546429c279",
   "metadata": {},
   "outputs": [],
   "source": [
    "def test_step(model: torch.nn.Module, \n",
    "              dataloader: torch.utils.data.DataLoader, \n",
    "              loss_fn: torch.nn.Module):\n",
    "    # Put model in eval mode\n",
    "    model.eval() \n",
    "    \n",
    "    # Setup test loss and test accuracy values\n",
    "    test_loss, test_acc = 0, 0\n",
    "    \n",
    "    # Turn on inference context manager\n",
    "    with torch.inference_mode():\n",
    "        # Loop through DataLoader batches\n",
    "        for batch, (X, y) in enumerate(dataloader):\n",
    "            # Send data to target device\n",
    "            # X, y = X.to(device), y.to(device)\n",
    "            X, y = X, y\n",
    "    \n",
    "            # 1. Forward pass\n",
    "            test_pred_logits = model(X)\n",
    "\n",
    "            # 2. Calculate and accumulate loss\n",
    "            loss = loss_fn(test_pred_logits, y)\n",
    "            test_loss += loss.item()\n",
    "            \n",
    "            # Calculate and accumulate accuracy\n",
    "            test_pred_labels = test_pred_logits.argmax(dim=1)\n",
    "            test_acc += ((test_pred_labels == y).sum().item()/len(test_pred_labels))\n",
    "            \n",
    "    # Adjust metrics to get average loss and accuracy per batch \n",
    "    test_loss = test_loss / len(dataloader)\n",
    "    test_acc = test_acc / len(dataloader)\n",
    "    return test_loss, test_acc"
   ]
  },
  {
   "cell_type": "code",
   "execution_count": 32,
   "id": "c9617c93-c907-4849-9457-375b68219007",
   "metadata": {},
   "outputs": [],
   "source": [
    "from tqdm.auto import tqdm\n",
    "\n",
    "# 1. Take in various parameters required for training and test steps\n",
    "def train(model: torch.nn.Module, \n",
    "          train_dataloader: torch.utils.data.DataLoader, \n",
    "          test_dataloader: torch.utils.data.DataLoader, \n",
    "          optimizer: torch.optim.Optimizer,\n",
    "          loss_fn: torch.nn.Module = nn.CrossEntropyLoss(),\n",
    "          epochs: int = 5):\n",
    "    \n",
    "    # 2. Create empty results dictionary\n",
    "    results = {\"train_loss\": [],\n",
    "        \"train_acc\": [],\n",
    "        \"test_loss\": [],\n",
    "        \"test_acc\": []\n",
    "    }\n",
    "    \n",
    "    # 3. Loop through training and testing steps for a number of epochs\n",
    "    for epoch in tqdm(range(epochs)):\n",
    "        train_loss, train_acc = train_step(model=model,\n",
    "                                           dataloader=train_dataloader,\n",
    "                                           loss_fn=loss_fn,\n",
    "                                           optimizer=optimizer)\n",
    "        test_loss, test_acc = test_step(model=model,\n",
    "            dataloader=test_dataloader,\n",
    "            loss_fn=loss_fn)\n",
    "        \n",
    "        # 4. Print out what's happening\n",
    "        print(\n",
    "            f\"Epoch: {epoch+1} | \"\n",
    "            f\"train_loss: {train_loss:.4f} | \"\n",
    "            f\"train_acc: {train_acc:.4f} | \"\n",
    "            f\"test_loss: {test_loss:.4f} | \"\n",
    "            f\"test_acc: {test_acc:.4f}\"\n",
    "        )\n",
    "\n",
    "        # 5. Update results dictionary\n",
    "        results[\"train_loss\"].append(train_loss)\n",
    "        results[\"train_acc\"].append(train_acc)\n",
    "        results[\"test_loss\"].append(test_loss)\n",
    "        results[\"test_acc\"].append(test_acc)\n",
    "\n",
    "    # 6. Return the filled results at the end of the epochs\n",
    "    return results"
   ]
  },
  {
   "cell_type": "code",
   "execution_count": null,
   "id": "2ac3aa9f-02fe-4efd-82b1-288f04c3eae2",
   "metadata": {},
   "outputs": [],
   "source": []
  },
  {
   "cell_type": "code",
   "execution_count": 33,
   "id": "452576e6-556f-4527-b0d5-349b6475f200",
   "metadata": {},
   "outputs": [
    {
     "data": {
      "application/vnd.jupyter.widget-view+json": {
       "model_id": "52e52b86127f4881a645a5396216c7a5",
       "version_major": 2,
       "version_minor": 0
      },
      "text/plain": [
       "  0%|          | 0/20 [00:00<?, ?it/s]"
      ]
     },
     "metadata": {},
     "output_type": "display_data"
    },
    {
     "name": "stdout",
     "output_type": "stream",
     "text": [
      "Epoch: 1 | train_loss: 0.6542 | train_acc: 0.6140 | test_loss: 0.7696 | test_acc: 0.5000\n",
      "Epoch: 2 | train_loss: 0.4696 | train_acc: 0.7784 | test_loss: 0.6999 | test_acc: 0.5078\n",
      "Epoch: 3 | train_loss: 0.2534 | train_acc: 0.8886 | test_loss: 0.8488 | test_acc: 0.5195\n",
      "Epoch: 4 | train_loss: 0.1486 | train_acc: 0.9375 | test_loss: 0.4323 | test_acc: 0.7891\n",
      "Epoch: 5 | train_loss: 0.0952 | train_acc: 0.9568 | test_loss: 0.3290 | test_acc: 0.8672\n",
      "Epoch: 6 | train_loss: 0.1734 | train_acc: 0.9441 | test_loss: 0.5957 | test_acc: 0.7422\n",
      "Epoch: 7 | train_loss: 0.0492 | train_acc: 0.9830 | test_loss: 0.6603 | test_acc: 0.7969\n",
      "Epoch: 8 | train_loss: 0.0386 | train_acc: 0.9858 | test_loss: 0.4240 | test_acc: 0.8750\n",
      "Epoch: 9 | train_loss: 0.0176 | train_acc: 0.9962 | test_loss: 0.6408 | test_acc: 0.8594\n",
      "Epoch: 10 | train_loss: 0.0560 | train_acc: 0.9801 | test_loss: 0.3986 | test_acc: 0.8750\n",
      "Epoch: 11 | train_loss: 0.0258 | train_acc: 0.9915 | test_loss: 0.4895 | test_acc: 0.8906\n",
      "Epoch: 12 | train_loss: 0.0157 | train_acc: 0.9943 | test_loss: 0.9919 | test_acc: 0.7852\n",
      "Epoch: 13 | train_loss: 0.0247 | train_acc: 0.9915 | test_loss: 0.4857 | test_acc: 0.8789\n",
      "Epoch: 14 | train_loss: 0.0181 | train_acc: 0.9962 | test_loss: 0.5635 | test_acc: 0.8633\n",
      "Epoch: 15 | train_loss: 0.0063 | train_acc: 0.9991 | test_loss: 0.8718 | test_acc: 0.8516\n",
      "Epoch: 16 | train_loss: 0.0174 | train_acc: 0.9924 | test_loss: 0.4420 | test_acc: 0.8789\n",
      "Epoch: 17 | train_loss: 0.0349 | train_acc: 0.9877 | test_loss: 0.5488 | test_acc: 0.8594\n",
      "Epoch: 18 | train_loss: 0.0141 | train_acc: 0.9934 | test_loss: 0.6624 | test_acc: 0.8516\n",
      "Epoch: 19 | train_loss: 0.0030 | train_acc: 1.0000 | test_loss: 0.7600 | test_acc: 0.8594\n",
      "Epoch: 20 | train_loss: 0.0042 | train_acc: 0.9972 | test_loss: 0.9565 | test_acc: 0.8438\n",
      "Total training time: 887.505 seconds\n"
     ]
    }
   ],
   "source": [
    "from timeit import default_timer as timer \n",
    "start_time = timer()\n",
    "model1_results = train(model=model1, \n",
    "                        train_dataloader=train_dataloader,\n",
    "                        test_dataloader=test_dataloader,\n",
    "                        optimizer=optimizer,\n",
    "                        loss_fn=loss_fn, \n",
    "                        epochs=20)\n",
    "# End the timer and print out how long it took\n",
    "end_time = timer()\n",
    "print(f\"Total training time: {end_time-start_time:.3f} seconds\")"
   ]
  },
  {
   "cell_type": "code",
   "execution_count": 34,
   "id": "57de911c-1be1-4bb4-8e9e-ea3381c5d771",
   "metadata": {},
   "outputs": [
    {
     "data": {
      "text/plain": [
       "dict_keys(['train_loss', 'train_acc', 'test_loss', 'test_acc'])"
      ]
     },
     "execution_count": 34,
     "metadata": {},
     "output_type": "execute_result"
    }
   ],
   "source": [
    "# Check the model_0_results keys\n",
    "model1_results.keys()"
   ]
  },
  {
   "cell_type": "code",
   "execution_count": 35,
   "id": "0e63f8df-57d1-4ef1-a4a0-e646e49f904a",
   "metadata": {},
   "outputs": [],
   "source": [
    "def plot_loss_curves(results):\n",
    "    \"\"\"Plots training curves of a results dictionary.\n",
    "\n",
    "    Args:\n",
    "        results (dict): dictionary containing list of values, e.g.\n",
    "            {\"train_loss\": [...],\n",
    "             \"train_acc\": [...],\n",
    "             \"test_loss\": [...],\n",
    "             \"test_acc\": [...]}\n",
    "    \"\"\"\n",
    "    \n",
    "    # Get the loss values of the results dictionary (training and test)\n",
    "    loss = results['train_loss']\n",
    "    test_loss = results['test_loss']\n",
    "\n",
    "    # Get the accuracy values of the results dictionary (training and test)\n",
    "    accuracy = results['train_acc']\n",
    "    test_accuracy = results['test_acc']\n",
    "\n",
    "    # Figure out how many epochs there were\n",
    "    epochs = range(len(results['train_loss']))\n",
    "\n",
    "    # Setup a plot \n",
    "    plt.figure(figsize=(15, 7))\n",
    "\n",
    "    # Plot loss\n",
    "    plt.subplot(1, 2, 1)\n",
    "    plt.plot(epochs, loss, label='train_loss')\n",
    "    plt.plot(epochs, test_loss, label='test_loss')\n",
    "    plt.title('Loss')\n",
    "    plt.xlabel('Epochs')\n",
    "    plt.legend()\n",
    "\n",
    "    # Plot accuracy\n",
    "    plt.subplot(1, 2, 2)\n",
    "    plt.plot(epochs, accuracy, label='train_accuracy')\n",
    "    plt.plot(epochs, test_accuracy, label='test_accuracy')\n",
    "    plt.title('Accuracy')\n",
    "    plt.xlabel('Epochs')\n",
    "    plt.legend();"
   ]
  },
  {
   "cell_type": "code",
   "execution_count": 36,
   "id": "a5a1da92-bd92-4a33-9e6b-8b5fc2821329",
   "metadata": {},
   "outputs": [
    {
     "data": {
      "image/png": "[encoded data removed]",
      "text/plain": [
       "<Figure size 1500x700 with 2 Axes>"
      ]
     },
     "metadata": {},
     "output_type": "display_data"
    }
   ],
   "source": [
    "plot_loss_curves(model1_results)"
   ]
  },
  {
   "cell_type": "code",
   "execution_count": 46,
   "id": "a5d0b9e9-f88f-4cc4-812f-7c00c8f66276",
   "metadata": {},
   "outputs": [
    {
     "name": "stdout",
     "output_type": "stream",
     "text": [
      "Custom image tensor:\n",
      "tensor([[[0.8980, 0.8902, 0.8784,  ..., 0.7843, 0.7843, 0.7843],\n",
      "         [0.9020, 0.8941, 0.8863,  ..., 0.7804, 0.7804, 0.7843],\n",
      "         [0.8980, 0.8980, 0.8941,  ..., 0.7765, 0.7804, 0.7804],\n",
      "         ...,\n",
      "         [0.9059, 0.9059, 0.9020,  ..., 0.4627, 0.4745, 0.4824],\n",
      "         [0.9059, 0.9059, 0.9059,  ..., 0.4588, 0.4745, 0.4863],\n",
      "         [0.9098, 0.9098, 0.9059,  ..., 0.4588, 0.4745, 0.4863]],\n",
      "\n",
      "        [[0.8824, 0.8745, 0.8627,  ..., 0.7569, 0.7569, 0.7569],\n",
      "         [0.8863, 0.8784, 0.8706,  ..., 0.7529, 0.7529, 0.7569],\n",
      "         [0.8824, 0.8824, 0.8784,  ..., 0.7490, 0.7529, 0.7529],\n",
      "         ...,\n",
      "         [0.9137, 0.9137, 0.9098,  ..., 0.4471, 0.4588, 0.4667],\n",
      "         [0.9137, 0.9137, 0.9137,  ..., 0.4431, 0.4588, 0.4706],\n",
      "         [0.9176, 0.9176, 0.9137,  ..., 0.4431, 0.4588, 0.4706]],\n",
      "\n",
      "        [[0.8353, 0.8275, 0.8157,  ..., 0.6863, 0.6863, 0.6863],\n",
      "         [0.8392, 0.8314, 0.8235,  ..., 0.6824, 0.6824, 0.6863],\n",
      "         [0.8353, 0.8353, 0.8314,  ..., 0.6784, 0.6824, 0.6824],\n",
      "         ...,\n",
      "         [0.9020, 0.9020, 0.8980,  ..., 0.4118, 0.4235, 0.4314],\n",
      "         [0.9020, 0.9020, 0.9020,  ..., 0.4078, 0.4235, 0.4353],\n",
      "         [0.9059, 0.9059, 0.9020,  ..., 0.4078, 0.4235, 0.4353]]])\n",
      "\n",
      "Custom image shape: torch.Size([3, 5760, 3840])\n",
      "\n",
      "Custom image dtype: torch.float32\n"
     ]
    }
   ],
   "source": [
    "# Load in custom image and convert the tensor values to float32\n",
    "custom_image = torchvision.io.read_image('single_prediction/human1.jpg').type(torch.float32)\n",
    "\n",
    "# Divide the image pixel values by 255 to get them between [0, 1]\n",
    "custom_image = custom_image / 255. \n",
    "\n",
    "# Print out image data\n",
    "print(f\"Custom image tensor:\\n{custom_image}\\n\")\n",
    "print(f\"Custom image shape: {custom_image.shape}\\n\")\n",
    "print(f\"Custom image dtype: {custom_image.dtype}\")"
   ]
  },
  {
   "cell_type": "code",
   "execution_count": 47,
   "id": "ecc3faaa-d0f1-48ff-98a9-af19f9c6a38f",
   "metadata": {},
   "outputs": [
    {
     "name": "stdout",
     "output_type": "stream",
     "text": [
      "Original shape: torch.Size([3, 5760, 3840])\n",
      "New shape: torch.Size([3, 64, 64])\n"
     ]
    }
   ],
   "source": [
    "# Create transform pipleine to resize image\n",
    "custom_image_transform = transforms.Compose([\n",
    "    transforms.Resize((64, 64)),\n",
    "])\n",
    "\n",
    "# Transform target image\n",
    "custom_image_transformed = custom_image_transform(custom_image)\n",
    "\n",
    "# Print out original shape and new shape\n",
    "print(f\"Original shape: {custom_image.shape}\")\n",
    "print(f\"New shape: {custom_image_transformed.shape}\")"
   ]
  },
  {
   "cell_type": "code",
   "execution_count": 48,
   "id": "c2618615-4950-4c2e-8418-bee7c36c138b",
   "metadata": {},
   "outputs": [
    {
     "name": "stdout",
     "output_type": "stream",
     "text": [
      "Custom image transformed shape: torch.Size([3, 64, 64])\n",
      "Unsqueezed custom image shape: torch.Size([1, 3, 64, 64])\n"
     ]
    }
   ],
   "source": [
    "model1.eval()\n",
    "with torch.inference_mode():\n",
    "    # Add an extra dimension to image\n",
    "    custom_image_transformed_with_batch_size = custom_image_transformed.unsqueeze(dim=0)\n",
    "    \n",
    "    # Print out different shapes\n",
    "    print(f\"Custom image transformed shape: {custom_image_transformed.shape}\")\n",
    "    print(f\"Unsqueezed custom image shape: {custom_image_transformed_with_batch_size.shape}\")\n",
    "    \n",
    "    # Make a prediction on image with an extra dimension\n",
    "    # custom_image_pred = model_1(custom_image_transformed.unsqueeze(dim=0).to(device))\n",
    "    custom_image_pred = model1(custom_image_transformed.unsqueeze(dim=0))"
   ]
  },
  {
   "cell_type": "code",
   "execution_count": 49,
   "id": "090c9c16-9c97-4468-88aa-2ba2c1e596b8",
   "metadata": {},
   "outputs": [
    {
     "data": {
      "text/plain": [
       "tensor([[-1.9030,  1.9813]])"
      ]
     },
     "execution_count": 49,
     "metadata": {},
     "output_type": "execute_result"
    }
   ],
   "source": [
    "custom_image_pred"
   ]
  },
  {
   "cell_type": "code",
   "execution_count": 50,
   "id": "5a4b2a4e-e3f4-4008-88b7-f82940703398",
   "metadata": {},
   "outputs": [
    {
     "name": "stdout",
     "output_type": "stream",
     "text": [
      "Prediction logits: tensor([[-1.9030,  1.9813]])\n",
      "Prediction probabilities: tensor([[0.0201, 0.9799]])\n",
      "Prediction label: tensor([1])\n"
     ]
    }
   ],
   "source": [
    "# Print out prediction logits\n",
    "print(f\"Prediction logits: {custom_image_pred}\")\n",
    "\n",
    "# Convert logits -> prediction probabilities (using torch.softmax() for multi-class classification)\n",
    "custom_image_pred_probs = torch.softmax(custom_image_pred, dim=1)\n",
    "print(f\"Prediction probabilities: {custom_image_pred_probs}\")\n",
    "\n",
    "# Convert prediction probabilities -> prediction labels\n",
    "custom_image_pred_label = torch.argmax(custom_image_pred_probs, dim=1)\n",
    "print(f\"Prediction label: {custom_image_pred_label}\")"
   ]
  },
  {
   "cell_type": "code",
   "execution_count": 51,
   "id": "f18822a7-7e8f-4401-83e3-c0d4ee0c3afd",
   "metadata": {},
   "outputs": [
    {
     "data": {
      "text/plain": [
       "'humans'"
      ]
     },
     "execution_count": 51,
     "metadata": {},
     "output_type": "execute_result"
    }
   ],
   "source": [
    "# Find the predicted label\n",
    "custom_image_pred_class = class_names[custom_image_pred_label.cpu()] # put pred label to CPU, otherwise will error\n",
    "custom_image_pred_class"
   ]
  },
  {
   "cell_type": "code",
   "execution_count": null,
   "id": "fe6d0c4e-9a34-4f47-af3a-796ed8b50c9e",
   "metadata": {},
   "outputs": [],
   "source": []
  }
 ],
 "metadata": {
  "kernelspec": {
   "display_name": "Python 3 (ipykernel)",
   "language": "python",
   "name": "python3"
  },
  "language_info": {
   "codemirror_mode": {
    "name": "ipython",
    "version": 3
   },
   "file_extension": ".py",
   "mimetype": "text/x-python",
   "name": "python",
   "nbconvert_exporter": "python",
   "pygments_lexer": "ipython3",
   "version": "3.11.7"
  }
 },
 "nbformat": 4,
 "nbformat_minor": 5
}
